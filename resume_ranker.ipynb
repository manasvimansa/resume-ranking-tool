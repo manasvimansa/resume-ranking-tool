{
 "cells": [
  {
   "cell_type": "code",
   "execution_count": 3,
   "id": "27d52080-1c43-49cf-9e26-79927c6ed8d7",
   "metadata": {},
   "outputs": [
    {
     "name": "stdout",
     "output_type": "stream",
     "text": [
      "['experience', 'Python', 'developer', 'Flask', 'React', 'NLP', 'tool']\n"
     ]
    }
   ],
   "source": [
    "import spacy\n",
    "nlp = spacy.load(\"en_core_web_sm\")\n",
    "\n",
    "text = \"Experienced Python developer with Flask, React, and NLP tools.\"\n",
    "\n",
    "doc = nlp(text)\n",
    "tokens = [token.lemma_ for token in doc if not token.is_stop and token.is_alpha]\n",
    "print(tokens)\n"
   ]
  },
  {
   "cell_type": "code",
   "execution_count": 16,
   "id": "1e59e597-0622-4baa-b978-c44d4e5e75fe",
   "metadata": {},
   "outputs": [
    {
     "name": "stdout",
     "output_type": "stream",
     "text": [
      "Requirement already satisfied: PyMuPDF in c:\\users\\hp\\onedrive\\desktop\\python\\spacy-env\\lib\\site-packages (1.26.0)\n"
     ]
    },
    {
     "name": "stderr",
     "output_type": "stream",
     "text": [
      "\n",
      "[notice] A new release of pip is available: 23.0.1 -> 25.1.1\n",
      "[notice] To update, run: python.exe -m pip install --upgrade pip\n"
     ]
    }
   ],
   "source": [
    "!pip install PyMuPDF"
   ]
  },
  {
   "cell_type": "code",
   "execution_count": 19,
   "id": "96c3de0e-ce5d-4c9f-a5f4-f8ebe5353931",
   "metadata": {},
   "outputs": [
    {
     "name": "stdout",
     "output_type": "stream",
     "text": [
      "MANASVI M \n",
      "Mail: manasvi.mitblr2023@learner.manipal.edu     Mobile no: 9113060454 \n",
      "CAREER OBJECTIVE  \n",
      "Computer Science student at Manipal Academy of Higher Education Bangalore, completed my \n",
      "2nd year, seeking opportunities to apply and expand my technical knowledge through \n",
      "internships and collaborative projects in software development and research. \n",
      "EDUCATION  \n",
      "Bachelor of Technology (B.Tech) in Computer Science Manipal Academy of Higher Education \n",
      "Second Year (2023- Present) \n",
      "TECHNICAL SKILLS  \n",
      "Programming Languages: C, C++ ,Java , Basic Knowledge in Python and AI \n",
      "Web Development: React.js ,HTML , CSS  \n",
      "Databases: MongoDB ,MySQL  \n",
      "Concepts: Data Structures & Algorithms , Object-Oriented Programming, Database \n",
      "Management Systems \n",
      "PROJECTS  \n",
      "Online Thrift  Marketplace \n",
      "A web-based platform where users can buy and sell second-hand clothes. \n",
      " \n",
      "Frontend: HTML, CSS, React.js \n",
      " \n",
      "Backend: Node.js \n",
      " \n",
      "Database: MongoDB \n",
      " \n",
      "Developed a full-stack project where users can buy and sell product\n"
     ]
    }
   ],
   "source": [
    "import fitz  # PyMuPDF\n",
    "\n",
    "def extract_text_from_pdf(pdf_path):\n",
    "    doc = fitz.open(pdf_path)\n",
    "    text = \"\"\n",
    "    for page in doc:\n",
    "        text += page.get_text()\n",
    "    return text\n",
    "\n",
    "# Example usage\n",
    "resume_text = extract_text_from_pdf(\"MANASVI M RESUME.pdf\")\n",
    "print(resume_text[:1000])  # print first 1000 chars\n"
   ]
  },
  {
   "cell_type": "code",
   "execution_count": 20,
   "id": "0c656b02-c494-4f06-992d-e09654e4665d",
   "metadata": {},
   "outputs": [
    {
     "name": "stdout",
     "output_type": "stream",
     "text": [
      "{'OBJECTIVE', 'B.Tech', 'projects', 'Higher', 'Manipal', 'MongoDB', 'stack', 'college', 'Web', 'Programming', 'Year', 'Communication', 'software', 'Marketplace', 'Present', 'research', 'MySQL', 'PROJECTS', 'person', 'internships', 'views', 'AI', 'C++', 'EVENTS', 'Skills', 'Strong', 'data', 'Databases', 'Education', 'PARTICIPATION', 'users', 'English', 'Online', 'Node.js', 'platform', 'Java', 'Collaboration', 'hands', 'Algorithms', 'Structures', 'CSS', 'decision', 'Development', '2023-', 'C', 'Object', 'Technology', 'project', 'Backend', 'desktop', 'TECHNICAL', 'Hindi', 'Academy', 'React.js', 'Languages', 'solutions', 'manasvi.mitblr2023@learner.manipal.edu', 'MANASVI', 'Bachelor', 'Computer', 'mobile', 'Kannada', 'opportunities', 'Python', 'EDUCATION', 'Science', 'knowledge', 'challenges', 'student', 'development', 'hand', 'web', 'Second', 'Systems', 'Frontend', 'Bangalore', 'Soft', 'products', 'event', 'Concepts', 'Data', 'SKILLS', 'HTML', 'Thrift', 'insights', 'Mail', 'Participated', 'Workshop', 'Basic', 'clothes', 'Database', 'UI', 'Thinking', 'Knowledge', 'Research', 'tasks', '\\uf0b7', 'Critical', 'analytics', 'year', 'Mobile', 'DETAILS', 'Management', 'M', 'Team'}\n"
     ]
    }
   ],
   "source": [
    "doc = nlp(resume_text)\n",
    "skills = [token.text for token in doc if token.pos_ in (\"NOUN\", \"PROPN\") and not token.is_stop]\n",
    "print(set(skills))  # Using set to remove duplicates\n"
   ]
  },
  {
   "cell_type": "code",
   "execution_count": 21,
   "id": "ef4de726-1fab-46d3-91de-0c80e13f6264",
   "metadata": {
    "scrolled": true
   },
   "outputs": [
    {
     "name": "stdout",
     "output_type": "stream",
     "text": [
      "MANASVI M \n",
      "Mail: manasvi.mitblr2023@learner.manipal.edu -> ORG\n",
      "9113060454 -> CARDINAL\n",
      "Manipal Academy of Higher Education Bangalore -> ORG\n",
      "2nd year -> DATE\n",
      "Bachelor of Technology -> ORG\n",
      "B.Tech -> ORG\n",
      "Computer Science Manipal Academy -> ORG\n",
      "Second Year -> DATE\n",
      "C++ -> PERSON\n",
      "Java -> PERSON\n",
      "AI -> GPE\n",
      "HTML -> ORG\n",
      "CSS -> ORG\n",
      "Data Structures & Algorithms -> ORG\n",
      "Object-Oriented Programming -> ORG\n",
      "Database \n",
      "Management Systems \n",
      "PROJECTS  \n",
      "Online Thrift  Marketplace -> ORG\n",
      "second -> ORDINAL\n",
      "CSS -> ORG\n",
      "UI -> ORG\n",
      "English -> LANGUAGE\n",
      "Kannada -> PERSON\n",
      "Hindi -> GPE\n",
      " Soft Skills -> PERSON\n"
     ]
    }
   ],
   "source": [
    "for ent in doc.ents:\n",
    "    print(ent.text, \"->\", ent.label_)\n"
   ]
  },
  {
   "cell_type": "code",
   "execution_count": 22,
   "id": "e95e7dbe-9825-44ea-9f54-04979ecb02ec",
   "metadata": {
    "scrolled": true
   },
   "outputs": [
    {
     "name": "stdout",
     "output_type": "stream",
     "text": [
      "EDUCATION  \n",
      "Bachelor of Technology (B.Tech) in Computer Science Manipal Academy of Higher Education \n",
      "Second Year (2023- Present) \n",
      "TECHNICAL SKILLS  \n",
      "Programming Languages: C, C++ ,Java , Basic Knowledge in Python and AI \n",
      "Web Development: React.js ,HTML , CSS  \n",
      "Databases: MongoDB ,MySQL  \n",
      "Concepts: Data Structures & Algorithms , Object-Oriented Programming, Database \n",
      "Management Systems \n",
      "PROJECTS  \n",
      "Online Thrift  Marketplace \n",
      "A web-based platform where users can buy and sell second-hand clothes. \n",
      " MANASVI M \n",
      "Mail: manasvi.mitblr2023@learner.manipal.edu     Mobile no: 9113060454 \n",
      "CAREER OBJECTIVE  \n",
      "Computer Science student at Manipal Academy of Higher Education Bangalore, completed my \n",
      "2nd year, seeking opportunities to apply and expand my technical knowledge through \n",
      "internships and collaborative projects in software development and research. \n",
      " Node.js \n",
      " \n",
      "Database: MongoDB \n",
      " \n",
      "Developed a full-stack project where users can buy and sell products. \n",
      "\n"
     ]
    }
   ],
   "source": [
    "from spacy.lang.en.stop_words import STOP_WORDS\n",
    "from string import punctuation\n",
    "from heapq import nlargest\n",
    "\n",
    "def summarize_text(text, n=3):\n",
    "    doc = nlp(text)\n",
    "    word_freq = {}\n",
    "    for word in doc:\n",
    "        if word.text.lower() not in STOP_WORDS and word.text.lower() not in punctuation:\n",
    "            word_freq[word.text.lower()] = word_freq.get(word.text.lower(), 0) + 1\n",
    "\n",
    "    sentence_strength = {}\n",
    "    for sent in doc.sents:\n",
    "        for word in sent:\n",
    "            if word.text.lower() in word_freq:\n",
    "                sentence_strength[sent] = sentence_strength.get(sent, 0) + word_freq[word.text.lower()]\n",
    "\n",
    "    summary = nlargest(n, sentence_strength, key=sentence_strength.get)\n",
    "    return ' '.join([str(s) for s in summary])\n",
    "\n",
    "print(summarize_text(resume_text, 3))\n",
    "\n"
   ]
  },
  {
   "cell_type": "code",
   "execution_count": 25,
   "id": "cb0e6e4f-11c0-4837-b131-c87f415f67d7",
   "metadata": {},
   "outputs": [],
   "source": [
    "job_description = \"\"\"\n",
    "Looking for a Python developer with knowledge in Flask, React, MongoDB, and NLP tools like spaCy.\n",
    "\"\"\"\n"
   ]
  },
  {
   "cell_type": "code",
   "execution_count": 26,
   "id": "ffc1ec41-401f-4eed-9b1c-be487b05728a",
   "metadata": {},
   "outputs": [
    {
     "name": "stdout",
     "output_type": "stream",
     "text": [
      " Job Description Keywords: {'python', 'nlp', 'flask', 'knowledge', 'react', 'tools', 'developer'}\n",
      " Resume Keywords: {'participation', 'technical', 'html', 'projects', 'stack', 'college', 'software', 'workshop', 'second', 'research', 'participated', 'english', 'higher', 'java', 'person', 'internships', 'views', 'programming', 'systems', 'concepts', 'bangalore', 'strong', 'bachelor', 'team', 'languages', 'algorithms', 'science', 'marketplace', 'data', 'events', 'basic', 'database', 'users', 'present', 'python', 'platform', 'kannada', 'computer', 'hands', 'thinking', 'ai', 'decision', 'mysql', 'frontend', 'management', 'object', 'structures', 'project', 'thrift', 'desktop', 'solutions', 'objective', 'databases', 'hindi', 'mobile', 'online', 'opportunities', 'details', 'mongodb', 'knowledge', 'challenges', 'student', 'development', 'hand', 'web', 'ui', 'products', 'event', 'css', 'education', 'insights', 'technology', 'm', 'clothes', 'soft', 'communication', 'c', 'backend', 'critical', 'tasks', 'analytics', 'year', 'collaboration', 'manipal', 'mail', 'skills', 'academy', 'manasvi'}\n",
      " Matched Keywords: {'knowledge', 'python'}\n",
      " Similarity Score: 0.29\n"
     ]
    }
   ],
   "source": [
    "# Function to extract keywords from text\n",
    "def extract_keywords(text):\n",
    "    doc = nlp(text)\n",
    "    return set(\n",
    "        token.text.lower()\n",
    "        for token in doc\n",
    "        if token.pos_ in (\"NOUN\", \"PROPN\") and not token.is_stop and token.is_alpha\n",
    "    )\n",
    "\n",
    "# Extract keywords from both job description and resume\n",
    "jd_keywords = extract_keywords(job_description)\n",
    "resume_keywords = extract_keywords(resume_text)\n",
    "\n",
    "# Calculate overlap\n",
    "matched_keywords = jd_keywords & resume_keywords\n",
    "score = len(matched_keywords) / len(jd_keywords) if jd_keywords else 0\n",
    "\n",
    "# Display results\n",
    "print(\" Job Description Keywords:\", jd_keywords)\n",
    "print(\" Resume Keywords:\", resume_keywords)\n",
    "print(\" Matched Keywords:\", matched_keywords)\n",
    "print(f\" Similarity Score: {score:.2f}\")\n"
   ]
  },
  {
   "cell_type": "code",
   "execution_count": null,
   "id": "5823047b-fadc-41d6-8ca5-082b0c1e9518",
   "metadata": {},
   "outputs": [],
   "source": []
  }
 ],
 "metadata": {
  "kernelspec": {
   "display_name": "Python 3 (ipykernel)",
   "language": "python",
   "name": "python3"
  },
  "language_info": {
   "codemirror_mode": {
    "name": "ipython",
    "version": 3
   },
   "file_extension": ".py",
   "mimetype": "text/x-python",
   "name": "python",
   "nbconvert_exporter": "python",
   "pygments_lexer": "ipython3",
   "version": "3.10.11"
  }
 },
 "nbformat": 4,
 "nbformat_minor": 5
}
